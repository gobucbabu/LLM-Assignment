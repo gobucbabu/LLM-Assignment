{
  "nbformat": 4,
  "nbformat_minor": 0,
  "metadata": {
    "colab": {
      "provenance": []
    },
    "kernelspec": {
      "name": "python3",
      "display_name": "Python 3"
    },
    "language_info": {
      "name": "python"
    }
  },
  "cells": [
    {
      "cell_type": "markdown",
      "source": [
        "# LLM assignment\n",
        "In this assignment I try to train and fine-tune a pre-trained medium-sized BERT type LLM to a downstream task of my choosing. I've decided to ..."
      ],
      "metadata": {
        "id": "suWuvkqNmcot"
      }
    },
    {
      "cell_type": "markdown",
      "source": [
        "## Library imports and funtion definitions"
      ],
      "metadata": {
        "id": "6gdBMKd1nP6w"
      }
    },
    {
      "cell_type": "code",
      "execution_count": null,
      "metadata": {
        "id": "CEU-eYfGmbbq"
      },
      "outputs": [],
      "source": []
    }
  ]
}